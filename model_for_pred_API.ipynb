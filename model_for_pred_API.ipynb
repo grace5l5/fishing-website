{
 "cells": [
  {
   "cell_type": "code",
   "execution_count": 1,
   "metadata": {},
   "outputs": [],
   "source": [
    "import pandas as pd\n",
    "import numpy as np\n",
    "\n",
    "from datetime import datetime\n",
    "\n",
    "from sklearn.model_selection import train_test_split\n",
    "from sklearn.metrics import accuracy_score, precision_score, classification_report\n",
    "\n",
    "from sklearn.pipeline import make_pipeline\n",
    "from sklearn.compose import ColumnTransformer\n",
    "from sklearn.preprocessing import MinMaxScaler, StandardScaler, OneHotEncoder\n",
    "from sklearn.ensemble import RandomForestClassifier\n",
    "\n",
    "import warnings\n",
    "warnings.filterwarnings('ignore')"
   ]
  },
  {
   "cell_type": "markdown",
   "metadata": {},
   "source": [
    "# Get raw data"
   ]
  },
  {
   "cell_type": "code",
   "execution_count": 2,
   "metadata": {},
   "outputs": [],
   "source": [
    "def get_data(path, file_names):\n",
    "    tables=[]\n",
    "    for file_name in file_names:\n",
    "        table = pd.read_csv(f'{path}/{file_name}.csv')\n",
    "        table['type']=f'{file_name}'\n",
    "        tables.append(table)\n",
    "    return pd.concat(tables)\n",
    "\n",
    "path='raw_data'\n",
    "file_names = ['trawlers', 'drifting_longlines', 'fixed_gear', 'pole_and_line', 'purse_seines', 'trollers', 'unknown']\n",
    "df = get_data(path, file_names)"
   ]
  },
  {
   "cell_type": "markdown",
   "metadata": {},
   "source": [
    "# Preprocessing"
   ]
  },
  {
   "cell_type": "markdown",
   "metadata": {},
   "source": [
    "## Remove unknown (-1 in is_fishing column)"
   ]
  },
  {
   "cell_type": "code",
   "execution_count": 3,
   "metadata": {},
   "outputs": [
    {
     "data": {
      "text/plain": [
       "is_fishing\n",
       "0.000000    295979\n",
       "1.000000    247498\n",
       "0.666667      4806\n",
       "0.333333      4096\n",
       "0.750000       752\n",
       "0.250000       670\n",
       "0.800000        33\n",
       "0.166667        12\n",
       "0.400000         9\n",
       "Name: count, dtype: int64"
      ]
     },
     "execution_count": 3,
     "metadata": {},
     "output_type": "execute_result"
    }
   ],
   "source": [
    "df = df.loc[df['is_fishing'] > -1]\n",
    "df['is_fishing'].value_counts()"
   ]
  },
  {
   "cell_type": "markdown",
   "metadata": {},
   "source": [
    "## Converting is_fishing to Binary (0 or 1)"
   ]
  },
  {
   "cell_type": "code",
   "execution_count": 4,
   "metadata": {},
   "outputs": [
    {
     "data": {
      "text/plain": [
       "is_fishing\n",
       "0.0    300766\n",
       "1.0    253089\n",
       "Name: count, dtype: int64"
      ]
     },
     "execution_count": 4,
     "metadata": {},
     "output_type": "execute_result"
    }
   ],
   "source": [
    "df_fishing = df\n",
    "\n",
    "# round the decimals so that number becomes 0 or 1\n",
    "df_fishing.loc[:, ('is_fishing')] = round(df_fishing.loc[:, ('is_fishing')])\n",
    "\n",
    "# check the unique values\n",
    "df_fishing['is_fishing'].value_counts()"
   ]
  },
  {
   "cell_type": "markdown",
   "metadata": {},
   "source": [
    "## remove type, as it is target of second model "
   ]
  },
  {
   "cell_type": "code",
   "execution_count": 5,
   "metadata": {},
   "outputs": [],
   "source": [
    "df_fishing.drop(columns = [\"type\"], inplace = True)"
   ]
  },
  {
   "cell_type": "markdown",
   "metadata": {},
   "source": [
    "## Date time (hour -> Angular distance)"
   ]
  },
  {
   "cell_type": "code",
   "execution_count": 6,
   "metadata": {},
   "outputs": [
    {
     "data": {
      "text/html": [
       "<div>\n",
       "<style scoped>\n",
       "    .dataframe tbody tr th:only-of-type {\n",
       "        vertical-align: middle;\n",
       "    }\n",
       "\n",
       "    .dataframe tbody tr th {\n",
       "        vertical-align: top;\n",
       "    }\n",
       "\n",
       "    .dataframe thead th {\n",
       "        text-align: right;\n",
       "    }\n",
       "</style>\n",
       "<table border=\"1\" class=\"dataframe\">\n",
       "  <thead>\n",
       "    <tr style=\"text-align: right;\">\n",
       "      <th></th>\n",
       "      <th>mmsi</th>\n",
       "      <th>date</th>\n",
       "      <th>distance_from_shore</th>\n",
       "      <th>distance_from_port</th>\n",
       "      <th>speed</th>\n",
       "      <th>course</th>\n",
       "      <th>lat</th>\n",
       "      <th>lon</th>\n",
       "      <th>is_fishing</th>\n",
       "      <th>source</th>\n",
       "      <th>hour</th>\n",
       "      <th>month</th>\n",
       "      <th>day_of_week</th>\n",
       "    </tr>\n",
       "  </thead>\n",
       "  <tbody>\n",
       "    <tr>\n",
       "      <th>60646</th>\n",
       "      <td>1.252340e+12</td>\n",
       "      <td>2015-01-01 05:08:23</td>\n",
       "      <td>0.0</td>\n",
       "      <td>0.0</td>\n",
       "      <td>0.0</td>\n",
       "      <td>128.0</td>\n",
       "      <td>52.458717</td>\n",
       "      <td>4.581316</td>\n",
       "      <td>0.0</td>\n",
       "      <td>gfw</td>\n",
       "      <td>5</td>\n",
       "      <td>1</td>\n",
       "      <td>3</td>\n",
       "    </tr>\n",
       "    <tr>\n",
       "      <th>60647</th>\n",
       "      <td>1.252340e+12</td>\n",
       "      <td>2015-01-01 05:20:34</td>\n",
       "      <td>0.0</td>\n",
       "      <td>0.0</td>\n",
       "      <td>0.0</td>\n",
       "      <td>128.0</td>\n",
       "      <td>52.458733</td>\n",
       "      <td>4.581316</td>\n",
       "      <td>0.0</td>\n",
       "      <td>gfw</td>\n",
       "      <td>5</td>\n",
       "      <td>1</td>\n",
       "      <td>3</td>\n",
       "    </tr>\n",
       "  </tbody>\n",
       "</table>\n",
       "</div>"
      ],
      "text/plain": [
       "               mmsi                date  distance_from_shore  \\\n",
       "60646  1.252340e+12 2015-01-01 05:08:23                  0.0   \n",
       "60647  1.252340e+12 2015-01-01 05:20:34                  0.0   \n",
       "\n",
       "       distance_from_port  speed  course        lat       lon  is_fishing  \\\n",
       "60646                 0.0    0.0   128.0  52.458717  4.581316         0.0   \n",
       "60647                 0.0    0.0   128.0  52.458733  4.581316         0.0   \n",
       "\n",
       "      source  hour  month  day_of_week  \n",
       "60646    gfw     5      1            3  \n",
       "60647    gfw     5      1            3  "
      ]
     },
     "execution_count": 6,
     "metadata": {},
     "output_type": "execute_result"
    }
   ],
   "source": [
    "df_fishing['timestamp'] = pd.to_datetime(df_fishing['timestamp'], unit='s')\n",
    "df_fishing.rename(columns={\"timestamp\": \"date\"}, inplace=True)\n",
    "df_fishing['hour'] = df_fishing['date'].dt.hour\n",
    "df_fishing['month'] = df_fishing['date'].dt.month\n",
    "df_fishing['day_of_week'] = df_fishing['date'].dt.day_of_week\n",
    "df_fishing.head(2)"
   ]
  },
  {
   "cell_type": "code",
   "execution_count": 7,
   "metadata": {},
   "outputs": [],
   "source": [
    "df_fishing['hour_sin'] = np.sin(df_fishing['hour'] * (2 * np.pi / 24))\n",
    "df_fishing['hour_cos'] = np.cos(df_fishing['hour'] * (2 * np.pi / 24))"
   ]
  },
  {
   "cell_type": "markdown",
   "metadata": {},
   "source": [
    "## remove boat history track that are too small ( <15 )"
   ]
  },
  {
   "cell_type": "code",
   "execution_count": 8,
   "metadata": {},
   "outputs": [],
   "source": [
    "# Calculate the value counts of 'mmsi'\n",
    "mmsi_counts = df_fishing['mmsi'].value_counts()\n",
    "\n",
    "# Create a boolean mask for filtering mmsi values with counts less than or equal to 15\n",
    "mask = mmsi_counts > 15\n",
    "\n",
    "# Get the mmsi values that meet the condition\n",
    "selected_mmsi = mmsi_counts[mask].index\n",
    "\n",
    "# Use the isin() method to filter the DataFrame based on selected_mmsi\n",
    "filtered_fishing_df = df_fishing[df_fishing['mmsi'].isin(selected_mmsi)]"
   ]
  },
  {
   "cell_type": "code",
   "execution_count": 20,
   "metadata": {},
   "outputs": [],
   "source": [
    "# Dropping rows with NAN values\n",
    "df_1 = filtered_fishing_df.dropna()"
   ]
  },
  {
   "cell_type": "code",
   "execution_count": 21,
   "metadata": {},
   "outputs": [
    {
     "data": {
      "text/plain": [
       "(553534, 15)"
      ]
     },
     "execution_count": 21,
     "metadata": {},
     "output_type": "execute_result"
    }
   ],
   "source": [
    "df_1.shape"
   ]
  },
  {
   "cell_type": "code",
   "execution_count": 22,
   "metadata": {},
   "outputs": [],
   "source": [
    "df_fishing_clean= df_1[0:10000]"
   ]
  },
  {
   "cell_type": "code",
   "execution_count": 23,
   "metadata": {},
   "outputs": [
    {
     "data": {
      "text/plain": [
       "(10000, 15)"
      ]
     },
     "execution_count": 23,
     "metadata": {},
     "output_type": "execute_result"
    }
   ],
   "source": [
    "df_fishing_clean.shape"
   ]
  },
  {
   "cell_type": "markdown",
   "metadata": {},
   "source": [
    "# Split Data"
   ]
  },
  {
   "cell_type": "code",
   "execution_count": 24,
   "metadata": {},
   "outputs": [
    {
     "data": {
      "text/plain": [
       "((10000, 9), (10000,))"
      ]
     },
     "execution_count": 24,
     "metadata": {},
     "output_type": "execute_result"
    }
   ],
   "source": [
    "# Defining X - the features and Y - the target\n",
    "X = df_fishing_clean.drop(columns=['source','date','hour','is_fishing', 'hour_sin', 'hour_cos'])\n",
    "y = df_fishing_clean['is_fishing']\n",
    "X.shape, y.shape"
   ]
  },
  {
   "cell_type": "code",
   "execution_count": 25,
   "metadata": {},
   "outputs": [
    {
     "data": {
      "text/html": [
       "<div>\n",
       "<style scoped>\n",
       "    .dataframe tbody tr th:only-of-type {\n",
       "        vertical-align: middle;\n",
       "    }\n",
       "\n",
       "    .dataframe tbody tr th {\n",
       "        vertical-align: top;\n",
       "    }\n",
       "\n",
       "    .dataframe thead th {\n",
       "        text-align: right;\n",
       "    }\n",
       "</style>\n",
       "<table border=\"1\" class=\"dataframe\">\n",
       "  <thead>\n",
       "    <tr style=\"text-align: right;\">\n",
       "      <th></th>\n",
       "      <th>mmsi</th>\n",
       "      <th>distance_from_shore</th>\n",
       "      <th>distance_from_port</th>\n",
       "      <th>speed</th>\n",
       "      <th>course</th>\n",
       "      <th>lat</th>\n",
       "      <th>lon</th>\n",
       "      <th>month</th>\n",
       "      <th>day_of_week</th>\n",
       "    </tr>\n",
       "  </thead>\n",
       "  <tbody>\n",
       "    <tr>\n",
       "      <th>60646</th>\n",
       "      <td>1.252340e+12</td>\n",
       "      <td>0.0</td>\n",
       "      <td>0.000000</td>\n",
       "      <td>0.0</td>\n",
       "      <td>128.000000</td>\n",
       "      <td>52.458717</td>\n",
       "      <td>4.581316</td>\n",
       "      <td>1</td>\n",
       "      <td>3</td>\n",
       "    </tr>\n",
       "    <tr>\n",
       "      <th>60647</th>\n",
       "      <td>1.252340e+12</td>\n",
       "      <td>0.0</td>\n",
       "      <td>0.000000</td>\n",
       "      <td>0.0</td>\n",
       "      <td>128.000000</td>\n",
       "      <td>52.458733</td>\n",
       "      <td>4.581316</td>\n",
       "      <td>1</td>\n",
       "      <td>3</td>\n",
       "    </tr>\n",
       "    <tr>\n",
       "      <th>60648</th>\n",
       "      <td>1.252340e+12</td>\n",
       "      <td>0.0</td>\n",
       "      <td>0.000000</td>\n",
       "      <td>0.0</td>\n",
       "      <td>128.000000</td>\n",
       "      <td>52.458698</td>\n",
       "      <td>4.581267</td>\n",
       "      <td>1</td>\n",
       "      <td>3</td>\n",
       "    </tr>\n",
       "    <tr>\n",
       "      <th>60649</th>\n",
       "      <td>1.252340e+12</td>\n",
       "      <td>0.0</td>\n",
       "      <td>0.000000</td>\n",
       "      <td>0.0</td>\n",
       "      <td>128.000000</td>\n",
       "      <td>52.458698</td>\n",
       "      <td>4.581234</td>\n",
       "      <td>1</td>\n",
       "      <td>3</td>\n",
       "    </tr>\n",
       "    <tr>\n",
       "      <th>60650</th>\n",
       "      <td>1.252340e+12</td>\n",
       "      <td>0.0</td>\n",
       "      <td>0.000000</td>\n",
       "      <td>0.0</td>\n",
       "      <td>128.000000</td>\n",
       "      <td>52.458683</td>\n",
       "      <td>4.581183</td>\n",
       "      <td>1</td>\n",
       "      <td>3</td>\n",
       "    </tr>\n",
       "    <tr>\n",
       "      <th>...</th>\n",
       "      <td>...</td>\n",
       "      <td>...</td>\n",
       "      <td>...</td>\n",
       "      <td>...</td>\n",
       "      <td>...</td>\n",
       "      <td>...</td>\n",
       "      <td>...</td>\n",
       "      <td>...</td>\n",
       "      <td>...</td>\n",
       "    </tr>\n",
       "    <tr>\n",
       "      <th>325375</th>\n",
       "      <td>3.491170e+13</td>\n",
       "      <td>0.0</td>\n",
       "      <td>3162.200195</td>\n",
       "      <td>0.0</td>\n",
       "      <td>0.000000</td>\n",
       "      <td>56.516781</td>\n",
       "      <td>20.994823</td>\n",
       "      <td>12</td>\n",
       "      <td>2</td>\n",
       "    </tr>\n",
       "    <tr>\n",
       "      <th>325376</th>\n",
       "      <td>3.491170e+13</td>\n",
       "      <td>0.0</td>\n",
       "      <td>3162.200195</td>\n",
       "      <td>0.0</td>\n",
       "      <td>93.199997</td>\n",
       "      <td>56.516792</td>\n",
       "      <td>20.994837</td>\n",
       "      <td>12</td>\n",
       "      <td>3</td>\n",
       "    </tr>\n",
       "    <tr>\n",
       "      <th>325377</th>\n",
       "      <td>3.491170e+13</td>\n",
       "      <td>0.0</td>\n",
       "      <td>3162.200195</td>\n",
       "      <td>0.0</td>\n",
       "      <td>93.300003</td>\n",
       "      <td>56.516754</td>\n",
       "      <td>20.994816</td>\n",
       "      <td>12</td>\n",
       "      <td>3</td>\n",
       "    </tr>\n",
       "    <tr>\n",
       "      <th>325378</th>\n",
       "      <td>3.491170e+13</td>\n",
       "      <td>0.0</td>\n",
       "      <td>3162.200195</td>\n",
       "      <td>0.0</td>\n",
       "      <td>0.000000</td>\n",
       "      <td>56.516766</td>\n",
       "      <td>20.994833</td>\n",
       "      <td>12</td>\n",
       "      <td>3</td>\n",
       "    </tr>\n",
       "    <tr>\n",
       "      <th>325379</th>\n",
       "      <td>3.491170e+13</td>\n",
       "      <td>0.0</td>\n",
       "      <td>3162.200195</td>\n",
       "      <td>0.0</td>\n",
       "      <td>128.500000</td>\n",
       "      <td>56.516788</td>\n",
       "      <td>20.994864</td>\n",
       "      <td>12</td>\n",
       "      <td>3</td>\n",
       "    </tr>\n",
       "  </tbody>\n",
       "</table>\n",
       "<p>10000 rows × 9 columns</p>\n",
       "</div>"
      ],
      "text/plain": [
       "                mmsi  distance_from_shore  distance_from_port  speed  \\\n",
       "60646   1.252340e+12                  0.0            0.000000    0.0   \n",
       "60647   1.252340e+12                  0.0            0.000000    0.0   \n",
       "60648   1.252340e+12                  0.0            0.000000    0.0   \n",
       "60649   1.252340e+12                  0.0            0.000000    0.0   \n",
       "60650   1.252340e+12                  0.0            0.000000    0.0   \n",
       "...              ...                  ...                 ...    ...   \n",
       "325375  3.491170e+13                  0.0         3162.200195    0.0   \n",
       "325376  3.491170e+13                  0.0         3162.200195    0.0   \n",
       "325377  3.491170e+13                  0.0         3162.200195    0.0   \n",
       "325378  3.491170e+13                  0.0         3162.200195    0.0   \n",
       "325379  3.491170e+13                  0.0         3162.200195    0.0   \n",
       "\n",
       "            course        lat        lon  month  day_of_week  \n",
       "60646   128.000000  52.458717   4.581316      1            3  \n",
       "60647   128.000000  52.458733   4.581316      1            3  \n",
       "60648   128.000000  52.458698   4.581267      1            3  \n",
       "60649   128.000000  52.458698   4.581234      1            3  \n",
       "60650   128.000000  52.458683   4.581183      1            3  \n",
       "...            ...        ...        ...    ...          ...  \n",
       "325375    0.000000  56.516781  20.994823     12            2  \n",
       "325376   93.199997  56.516792  20.994837     12            3  \n",
       "325377   93.300003  56.516754  20.994816     12            3  \n",
       "325378    0.000000  56.516766  20.994833     12            3  \n",
       "325379  128.500000  56.516788  20.994864     12            3  \n",
       "\n",
       "[10000 rows x 9 columns]"
      ]
     },
     "execution_count": 25,
     "metadata": {},
     "output_type": "execute_result"
    }
   ],
   "source": [
    "X"
   ]
  },
  {
   "cell_type": "code",
   "execution_count": 26,
   "metadata": {},
   "outputs": [
    {
     "data": {
      "text/plain": [
       "Index(['mmsi', 'distance_from_shore', 'distance_from_port', 'speed', 'course',\n",
       "       'lat', 'lon', 'month', 'day_of_week'],\n",
       "      dtype='object')"
      ]
     },
     "execution_count": 26,
     "metadata": {},
     "output_type": "execute_result"
    }
   ],
   "source": [
    "X.columns"
   ]
  },
  {
   "cell_type": "code",
   "execution_count": 27,
   "metadata": {},
   "outputs": [],
   "source": [
    "X_train, X_test, y_train, y_test = train_test_split(X, y, test_size=0.3, random_state=88)"
   ]
  },
  {
   "cell_type": "markdown",
   "metadata": {},
   "source": [
    "# Make Pipeline"
   ]
  },
  {
   "cell_type": "markdown",
   "metadata": {},
   "source": [
    "## OHE month and day of week and scaling for the rest"
   ]
  },
  {
   "cell_type": "code",
   "execution_count": 28,
   "metadata": {},
   "outputs": [
    {
     "data": {
      "text/html": [
       "<style>#sk-container-id-2 {color: black;}#sk-container-id-2 pre{padding: 0;}#sk-container-id-2 div.sk-toggleable {background-color: white;}#sk-container-id-2 label.sk-toggleable__label {cursor: pointer;display: block;width: 100%;margin-bottom: 0;padding: 0.3em;box-sizing: border-box;text-align: center;}#sk-container-id-2 label.sk-toggleable__label-arrow:before {content: \"▸\";float: left;margin-right: 0.25em;color: #696969;}#sk-container-id-2 label.sk-toggleable__label-arrow:hover:before {color: black;}#sk-container-id-2 div.sk-estimator:hover label.sk-toggleable__label-arrow:before {color: black;}#sk-container-id-2 div.sk-toggleable__content {max-height: 0;max-width: 0;overflow: hidden;text-align: left;background-color: #f0f8ff;}#sk-container-id-2 div.sk-toggleable__content pre {margin: 0.2em;color: black;border-radius: 0.25em;background-color: #f0f8ff;}#sk-container-id-2 input.sk-toggleable__control:checked~div.sk-toggleable__content {max-height: 200px;max-width: 100%;overflow: auto;}#sk-container-id-2 input.sk-toggleable__control:checked~label.sk-toggleable__label-arrow:before {content: \"▾\";}#sk-container-id-2 div.sk-estimator input.sk-toggleable__control:checked~label.sk-toggleable__label {background-color: #d4ebff;}#sk-container-id-2 div.sk-label input.sk-toggleable__control:checked~label.sk-toggleable__label {background-color: #d4ebff;}#sk-container-id-2 input.sk-hidden--visually {border: 0;clip: rect(1px 1px 1px 1px);clip: rect(1px, 1px, 1px, 1px);height: 1px;margin: -1px;overflow: hidden;padding: 0;position: absolute;width: 1px;}#sk-container-id-2 div.sk-estimator {font-family: monospace;background-color: #f0f8ff;border: 1px dotted black;border-radius: 0.25em;box-sizing: border-box;margin-bottom: 0.5em;}#sk-container-id-2 div.sk-estimator:hover {background-color: #d4ebff;}#sk-container-id-2 div.sk-parallel-item::after {content: \"\";width: 100%;border-bottom: 1px solid gray;flex-grow: 1;}#sk-container-id-2 div.sk-label:hover label.sk-toggleable__label {background-color: #d4ebff;}#sk-container-id-2 div.sk-serial::before {content: \"\";position: absolute;border-left: 1px solid gray;box-sizing: border-box;top: 0;bottom: 0;left: 50%;z-index: 0;}#sk-container-id-2 div.sk-serial {display: flex;flex-direction: column;align-items: center;background-color: white;padding-right: 0.2em;padding-left: 0.2em;position: relative;}#sk-container-id-2 div.sk-item {position: relative;z-index: 1;}#sk-container-id-2 div.sk-parallel {display: flex;align-items: stretch;justify-content: center;background-color: white;position: relative;}#sk-container-id-2 div.sk-item::before, #sk-container-id-2 div.sk-parallel-item::before {content: \"\";position: absolute;border-left: 1px solid gray;box-sizing: border-box;top: 0;bottom: 0;left: 50%;z-index: -1;}#sk-container-id-2 div.sk-parallel-item {display: flex;flex-direction: column;z-index: 1;position: relative;background-color: white;}#sk-container-id-2 div.sk-parallel-item:first-child::after {align-self: flex-end;width: 50%;}#sk-container-id-2 div.sk-parallel-item:last-child::after {align-self: flex-start;width: 50%;}#sk-container-id-2 div.sk-parallel-item:only-child::after {width: 0;}#sk-container-id-2 div.sk-dashed-wrapped {border: 1px dashed gray;margin: 0 0.4em 0.5em 0.4em;box-sizing: border-box;padding-bottom: 0.4em;background-color: white;}#sk-container-id-2 div.sk-label label {font-family: monospace;font-weight: bold;display: inline-block;line-height: 1.2em;}#sk-container-id-2 div.sk-label-container {text-align: center;}#sk-container-id-2 div.sk-container {/* jupyter's `normalize.less` sets `[hidden] { display: none; }` but bootstrap.min.css set `[hidden] { display: none !important; }` so we also need the `!important` here to be able to override the default hidden behavior on the sphinx rendered scikit-learn.org. See: https://github.com/scikit-learn/scikit-learn/issues/21755 */display: inline-block !important;position: relative;}#sk-container-id-2 div.sk-text-repr-fallback {display: none;}</style><div id=\"sk-container-id-2\" class=\"sk-top-container\"><div class=\"sk-text-repr-fallback\"><pre>Pipeline(steps=[(&#x27;columntransformer&#x27;,\n",
       "                 ColumnTransformer(remainder=&#x27;passthrough&#x27;,\n",
       "                                   transformers=[(&#x27;num&#x27;, StandardScaler(),\n",
       "                                                  [&#x27;mmsi&#x27;,\n",
       "                                                   &#x27;distance_from_shore&#x27;,\n",
       "                                                   &#x27;distance_from_port&#x27;,\n",
       "                                                   &#x27;speed&#x27;, &#x27;course&#x27;]),\n",
       "                                                 (&#x27;minmax&#x27;, MinMaxScaler(),\n",
       "                                                  [&#x27;lat&#x27;, &#x27;lon&#x27;]),\n",
       "                                                 (&#x27;ohe&#x27;,\n",
       "                                                  OneHotEncoder(drop=&#x27;first&#x27;,\n",
       "                                                                sparse=False),\n",
       "                                                  [&#x27;month&#x27;, &#x27;day_of_week&#x27;])])),\n",
       "                (&#x27;randomforestclassifier&#x27;, RandomForestClassifier())])</pre><b>In a Jupyter environment, please rerun this cell to show the HTML representation or trust the notebook. <br />On GitHub, the HTML representation is unable to render, please try loading this page with nbviewer.org.</b></div><div class=\"sk-container\" hidden><div class=\"sk-item sk-dashed-wrapped\"><div class=\"sk-label-container\"><div class=\"sk-label sk-toggleable\"><input class=\"sk-toggleable__control sk-hidden--visually\" id=\"sk-estimator-id-12\" type=\"checkbox\" ><label for=\"sk-estimator-id-12\" class=\"sk-toggleable__label sk-toggleable__label-arrow\">Pipeline</label><div class=\"sk-toggleable__content\"><pre>Pipeline(steps=[(&#x27;columntransformer&#x27;,\n",
       "                 ColumnTransformer(remainder=&#x27;passthrough&#x27;,\n",
       "                                   transformers=[(&#x27;num&#x27;, StandardScaler(),\n",
       "                                                  [&#x27;mmsi&#x27;,\n",
       "                                                   &#x27;distance_from_shore&#x27;,\n",
       "                                                   &#x27;distance_from_port&#x27;,\n",
       "                                                   &#x27;speed&#x27;, &#x27;course&#x27;]),\n",
       "                                                 (&#x27;minmax&#x27;, MinMaxScaler(),\n",
       "                                                  [&#x27;lat&#x27;, &#x27;lon&#x27;]),\n",
       "                                                 (&#x27;ohe&#x27;,\n",
       "                                                  OneHotEncoder(drop=&#x27;first&#x27;,\n",
       "                                                                sparse=False),\n",
       "                                                  [&#x27;month&#x27;, &#x27;day_of_week&#x27;])])),\n",
       "                (&#x27;randomforestclassifier&#x27;, RandomForestClassifier())])</pre></div></div></div><div class=\"sk-serial\"><div class=\"sk-item sk-dashed-wrapped\"><div class=\"sk-label-container\"><div class=\"sk-label sk-toggleable\"><input class=\"sk-toggleable__control sk-hidden--visually\" id=\"sk-estimator-id-13\" type=\"checkbox\" ><label for=\"sk-estimator-id-13\" class=\"sk-toggleable__label sk-toggleable__label-arrow\">columntransformer: ColumnTransformer</label><div class=\"sk-toggleable__content\"><pre>ColumnTransformer(remainder=&#x27;passthrough&#x27;,\n",
       "                  transformers=[(&#x27;num&#x27;, StandardScaler(),\n",
       "                                 [&#x27;mmsi&#x27;, &#x27;distance_from_shore&#x27;,\n",
       "                                  &#x27;distance_from_port&#x27;, &#x27;speed&#x27;, &#x27;course&#x27;]),\n",
       "                                (&#x27;minmax&#x27;, MinMaxScaler(), [&#x27;lat&#x27;, &#x27;lon&#x27;]),\n",
       "                                (&#x27;ohe&#x27;,\n",
       "                                 OneHotEncoder(drop=&#x27;first&#x27;, sparse=False),\n",
       "                                 [&#x27;month&#x27;, &#x27;day_of_week&#x27;])])</pre></div></div></div><div class=\"sk-parallel\"><div class=\"sk-parallel-item\"><div class=\"sk-item\"><div class=\"sk-label-container\"><div class=\"sk-label sk-toggleable\"><input class=\"sk-toggleable__control sk-hidden--visually\" id=\"sk-estimator-id-14\" type=\"checkbox\" ><label for=\"sk-estimator-id-14\" class=\"sk-toggleable__label sk-toggleable__label-arrow\">num</label><div class=\"sk-toggleable__content\"><pre>[&#x27;mmsi&#x27;, &#x27;distance_from_shore&#x27;, &#x27;distance_from_port&#x27;, &#x27;speed&#x27;, &#x27;course&#x27;]</pre></div></div></div><div class=\"sk-serial\"><div class=\"sk-item\"><div class=\"sk-estimator sk-toggleable\"><input class=\"sk-toggleable__control sk-hidden--visually\" id=\"sk-estimator-id-15\" type=\"checkbox\" ><label for=\"sk-estimator-id-15\" class=\"sk-toggleable__label sk-toggleable__label-arrow\">StandardScaler</label><div class=\"sk-toggleable__content\"><pre>StandardScaler()</pre></div></div></div></div></div></div><div class=\"sk-parallel-item\"><div class=\"sk-item\"><div class=\"sk-label-container\"><div class=\"sk-label sk-toggleable\"><input class=\"sk-toggleable__control sk-hidden--visually\" id=\"sk-estimator-id-16\" type=\"checkbox\" ><label for=\"sk-estimator-id-16\" class=\"sk-toggleable__label sk-toggleable__label-arrow\">minmax</label><div class=\"sk-toggleable__content\"><pre>[&#x27;lat&#x27;, &#x27;lon&#x27;]</pre></div></div></div><div class=\"sk-serial\"><div class=\"sk-item\"><div class=\"sk-estimator sk-toggleable\"><input class=\"sk-toggleable__control sk-hidden--visually\" id=\"sk-estimator-id-17\" type=\"checkbox\" ><label for=\"sk-estimator-id-17\" class=\"sk-toggleable__label sk-toggleable__label-arrow\">MinMaxScaler</label><div class=\"sk-toggleable__content\"><pre>MinMaxScaler()</pre></div></div></div></div></div></div><div class=\"sk-parallel-item\"><div class=\"sk-item\"><div class=\"sk-label-container\"><div class=\"sk-label sk-toggleable\"><input class=\"sk-toggleable__control sk-hidden--visually\" id=\"sk-estimator-id-18\" type=\"checkbox\" ><label for=\"sk-estimator-id-18\" class=\"sk-toggleable__label sk-toggleable__label-arrow\">ohe</label><div class=\"sk-toggleable__content\"><pre>[&#x27;month&#x27;, &#x27;day_of_week&#x27;]</pre></div></div></div><div class=\"sk-serial\"><div class=\"sk-item\"><div class=\"sk-estimator sk-toggleable\"><input class=\"sk-toggleable__control sk-hidden--visually\" id=\"sk-estimator-id-19\" type=\"checkbox\" ><label for=\"sk-estimator-id-19\" class=\"sk-toggleable__label sk-toggleable__label-arrow\">OneHotEncoder</label><div class=\"sk-toggleable__content\"><pre>OneHotEncoder(drop=&#x27;first&#x27;, sparse=False)</pre></div></div></div></div></div></div><div class=\"sk-parallel-item\"><div class=\"sk-item\"><div class=\"sk-label-container\"><div class=\"sk-label sk-toggleable\"><input class=\"sk-toggleable__control sk-hidden--visually\" id=\"sk-estimator-id-20\" type=\"checkbox\" ><label for=\"sk-estimator-id-20\" class=\"sk-toggleable__label sk-toggleable__label-arrow\">remainder</label><div class=\"sk-toggleable__content\"><pre></pre></div></div></div><div class=\"sk-serial\"><div class=\"sk-item\"><div class=\"sk-estimator sk-toggleable\"><input class=\"sk-toggleable__control sk-hidden--visually\" id=\"sk-estimator-id-21\" type=\"checkbox\" ><label for=\"sk-estimator-id-21\" class=\"sk-toggleable__label sk-toggleable__label-arrow\">passthrough</label><div class=\"sk-toggleable__content\"><pre>passthrough</pre></div></div></div></div></div></div></div></div><div class=\"sk-item\"><div class=\"sk-estimator sk-toggleable\"><input class=\"sk-toggleable__control sk-hidden--visually\" id=\"sk-estimator-id-22\" type=\"checkbox\" ><label for=\"sk-estimator-id-22\" class=\"sk-toggleable__label sk-toggleable__label-arrow\">RandomForestClassifier</label><div class=\"sk-toggleable__content\"><pre>RandomForestClassifier()</pre></div></div></div></div></div></div></div>"
      ],
      "text/plain": [
       "Pipeline(steps=[('columntransformer',\n",
       "                 ColumnTransformer(remainder='passthrough',\n",
       "                                   transformers=[('num', StandardScaler(),\n",
       "                                                  ['mmsi',\n",
       "                                                   'distance_from_shore',\n",
       "                                                   'distance_from_port',\n",
       "                                                   'speed', 'course']),\n",
       "                                                 ('minmax', MinMaxScaler(),\n",
       "                                                  ['lat', 'lon']),\n",
       "                                                 ('ohe',\n",
       "                                                  OneHotEncoder(drop='first',\n",
       "                                                                sparse=False),\n",
       "                                                  ['month', 'day_of_week'])])),\n",
       "                ('randomforestclassifier', RandomForestClassifier())])"
      ]
     },
     "execution_count": 28,
     "metadata": {},
     "output_type": "execute_result"
    }
   ],
   "source": [
    "# Define the columns that need different preprocessing\n",
    "numeric_cols = ['mmsi', 'distance_from_shore', 'distance_from_port', 'speed', 'course']\n",
    "minmax_cols = ['lat', 'lon']\n",
    "ohe_cols = ['month', 'day_of_week']\n",
    "\n",
    "# Create transformers for each type of preprocessing\n",
    "numeric_transformer = StandardScaler()\n",
    "minmax_transformer = MinMaxScaler()\n",
    "ohe_transformer = OneHotEncoder(drop='first', sparse=False)\n",
    "\n",
    "# Create a ColumnTransformer to apply different transformers to different columns\n",
    "preprocessor = ColumnTransformer(\n",
    "    transformers=[\n",
    "        ('num', numeric_transformer, numeric_cols),\n",
    "        ('minmax', minmax_transformer, minmax_cols),\n",
    "        ('ohe', ohe_transformer, ohe_cols)],\n",
    "    remainder='passthrough')  # Bypass these features)\n",
    "\n",
    "# Create the Random Forest Classifier model\n",
    "rf_model = RandomForestClassifier()\n",
    "\n",
    "# Create the pipeline using make_pipeline\n",
    "pipeline = make_pipeline(preprocessor, rf_model)\n",
    "\n",
    "pipeline"
   ]
  },
  {
   "cell_type": "markdown",
   "metadata": {},
   "source": [
    "# Train Model"
   ]
  },
  {
   "cell_type": "code",
   "execution_count": 29,
   "metadata": {},
   "outputs": [
    {
     "name": "stdout",
     "output_type": "stream",
     "text": [
      "Accuracy: 0.99 Precision:0.93\n"
     ]
    }
   ],
   "source": [
    "# Train Pipeline\n",
    "pipeline.fit(X_train,y_train)\n",
    "y_pred = pipeline.predict(X_test)\n",
    "accuracy = accuracy_score(y_test, y_pred)\n",
    "precision = precision_score(y_test, y_pred)\n",
    "print(f\"Accuracy: {accuracy:.2f} Precision:{precision:.2f}\")"
   ]
  },
  {
   "cell_type": "markdown",
   "metadata": {},
   "source": [
    "# Export Model"
   ]
  },
  {
   "cell_type": "code",
   "execution_count": 30,
   "metadata": {},
   "outputs": [
    {
     "name": "stdout",
     "output_type": "stream",
     "text": [
      "Model saved at: rff_model.joblib\n"
     ]
    }
   ],
   "source": [
    "from joblib import dump\n",
    "import os\n",
    "\n",
    "# Get the current directory\n",
    "#current_directory = os.getcwd()\n",
    "\n",
    "# Navigate to the desired directory\n",
    "#target_directory = os.path.join(current_directory, '..', 'mlops/training_outputs/models')\n",
    "\n",
    "# Create the target directory if it doesn't exist\n",
    "#os.makedirs(target_directory, exist_ok=True)\n",
    "\n",
    "# Define the path for saving the model\n",
    "model_path = \"rff_model.joblib\"\n",
    "\n",
    "# Save the trained model to the specified path\n",
    "dump(pipeline, model_path)\n",
    "\n",
    "print(f\"Model saved at: {model_path}\")"
   ]
  },
  {
   "cell_type": "code",
   "execution_count": 31,
   "metadata": {},
   "outputs": [],
   "source": [
    "import joblib\n",
    "pipeline_test =joblib.load(\"rff_model.joblib\")"
   ]
  },
  {
   "cell_type": "code",
   "execution_count": 32,
   "metadata": {},
   "outputs": [
    {
     "data": {
      "text/plain": [
       "{'columntransformer': ColumnTransformer(remainder='passthrough',\n",
       "                   transformers=[('num', StandardScaler(),\n",
       "                                  ['mmsi', 'distance_from_shore',\n",
       "                                   'distance_from_port', 'speed', 'course']),\n",
       "                                 ('minmax', MinMaxScaler(), ['lat', 'lon']),\n",
       "                                 ('ohe',\n",
       "                                  OneHotEncoder(drop='first', sparse=False),\n",
       "                                  ['month', 'day_of_week'])]),\n",
       " 'randomforestclassifier': RandomForestClassifier()}"
      ]
     },
     "execution_count": 32,
     "metadata": {},
     "output_type": "execute_result"
    }
   ],
   "source": [
    "pipeline_test.named_steps"
   ]
  },
  {
   "cell_type": "code",
   "execution_count": null,
   "metadata": {},
   "outputs": [],
   "source": []
  }
 ],
 "metadata": {
  "kernelspec": {
   "display_name": "fishing_classification",
   "language": "python",
   "name": "python3"
  },
  "language_info": {
   "codemirror_mode": {
    "name": "ipython",
    "version": 3
   },
   "file_extension": ".py",
   "mimetype": "text/x-python",
   "name": "python",
   "nbconvert_exporter": "python",
   "pygments_lexer": "ipython3",
   "version": "3.10.6"
  },
  "orig_nbformat": 4
 },
 "nbformat": 4,
 "nbformat_minor": 2
}
